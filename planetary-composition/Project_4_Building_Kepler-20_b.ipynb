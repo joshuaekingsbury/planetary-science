{
 "cells": [
  {
   "cell_type": "markdown",
   "metadata": {},
   "source": [
    "NEA  \n",
    "https://exoplanetarchive.ipac.caltech.edu/overview/Kepler-20%20b#planet_Kepler-20-b_collapsible  \n",
    "  \n",
    "Gautier et al. 2011  \n",
    "https://ui.adsabs.harvard.edu/abs/2012ApJ...749...15G/abstract  \n",
    "  \n",
    "Kepler-20 b  "
   ]
  },
  {
   "cell_type": "markdown",
   "metadata": {},
   "source": [
    "## Part 1"
   ]
  },
  {
   "cell_type": "markdown",
   "metadata": {},
   "source": [
    "![title](img/figure3_marked.jpg)"
   ]
  },
  {
   "cell_type": "markdown",
   "metadata": {},
   "source": [
    "Figure 3 from Griffith et al 2020\n",
    "https://iopscience.iop.org/article/10.3847/1538-4357/abd6be"
   ]
  },
  {
   "cell_type": "code",
   "execution_count": 1,
   "metadata": {
    "execution": {
     "iopub.execute_input": "2022-04-17T01:42:04.263674Z",
     "iopub.status.busy": "2022-04-17T01:42:04.263266Z",
     "iopub.status.idle": "2022-04-17T01:42:04.293933Z",
     "shell.execute_reply": "2022-04-17T01:42:04.292017Z",
     "shell.execute_reply.started": "2022-04-17T01:42:04.263626Z"
    },
    "tags": []
   },
   "outputs": [
    {
     "name": "stdout",
     "output_type": "stream",
     "text": [
      "[ 0.10000000000000009 ]\n",
      "4.3651583224016614e-05\n",
      "3.467368504525317e-05\n",
      "3.0199517204020192e-05\n",
      "FeMg: 0.6918309709189369\n",
      "SiMg: 0.7585775750291828\n",
      "AlMg: 0.07585775750291832\n",
      "CaMg: 0.04897788193684461\n"
     ]
    }
   ],
   "source": [
    "## _FeH_ == [Fe/H]\n",
    "## FeH == Fe/H mol ratio\n",
    "\n",
    "_FeH_ = 0.00\n",
    "\n",
    "_MgFe_ = 0.10\n",
    "_SiFe_ = 0.00\n",
    "_CaFe_ = 0.00\n",
    "_AlFe_ = 0.05\n",
    "\n",
    "_MgH_ = (1+_FeH_) * (1+_MgFe_) - 1\n",
    "_SiH_ = (1+_FeH_) * (1+_SiFe_) - 1\n",
    "_CaH_ = (1+_FeH_) * (1+_CaFe_) - 1\n",
    "_AlH_ = (1+_FeH_) * (1+_AlFe_) - 1\n",
    "\n",
    "# Sol Abundances, from literature\n",
    "# https://par.nsf.gov/servlets/purl/10036398\n",
    "H = 12\n",
    "Fe = 7.48\n",
    "Mg = 7.54\n",
    "Si = 7.52\n",
    "Ca = 6.33\n",
    "Al = 6.47\n",
    "\n",
    "# _MgH_ = log10( MgH / 10^( Mg - H ) )\n",
    "# MgH = 10^( _MgH_ ) * 10^( Mg - H ))\n",
    "MgH = 10**( _MgH_ ) * 10**( Mg - H )\n",
    "print( \"[\",_MgH_,\"]\" )\n",
    "\n",
    "print( MgH ) # Kepler-20 b\n",
    "print( 10**( Mg - H ) ) # Solar\n",
    "\n",
    "## Solar Molar Ratio of Fe/H\n",
    "FeH = 10**( Fe - H )\n",
    "## Kepler-20 b Molar Ratio\n",
    "FeH = 10**( _FeH_ ) * 10**( Fe - H )\n",
    "print(FeH)\n",
    "\n",
    "# With the Solar Iron abundance we can scale it to the magnesium abundance\n",
    "\n",
    "## Scaled Fe/Mg Abundance\n",
    "FeMg = FeH / MgH\n",
    "print(\"FeMg:\", FeMg)\n",
    "\n",
    "## Scaled Si/Mg Abundance\n",
    "SiH = 10**( _SiH_ ) * 10**( Si - H )\n",
    "SiMg = SiH / MgH\n",
    "print(\"SiMg:\", SiMg)\n",
    "\n",
    "## Scaled Si/Mg Abundance\n",
    "AlH = 10**( _AlH_ ) * 10**( Al - H )\n",
    "AlMg = AlH / MgH\n",
    "print(\"AlMg:\", AlMg)\n",
    "\n",
    "## Scaled Ca/Mg Abundance\n",
    "CaH = 10**( _CaH_ ) * 10**( Ca - H )\n",
    "CaMg = CaH / MgH\n",
    "print(\"CaMg:\", CaMg)"
   ]
  },
  {
   "cell_type": "markdown",
   "metadata": {},
   "source": [
    "## Part 2"
   ]
  },
  {
   "cell_type": "markdown",
   "metadata": {
    "execution": {
     "iopub.execute_input": "2022-04-16T20:49:34.029478Z",
     "iopub.status.busy": "2022-04-16T20:49:34.028703Z",
     "iopub.status.idle": "2022-04-16T20:49:34.372184Z",
     "shell.execute_reply": "2022-04-16T20:49:34.369767Z",
     "shell.execute_reply.started": "2022-04-16T20:49:34.029428Z"
    }
   },
   "source": [
    "Star's age: <8.80 +4.70 -2.70 Gyr"
   ]
  },
  {
   "cell_type": "code",
   "execution_count": 2,
   "metadata": {
    "execution": {
     "iopub.execute_input": "2022-04-17T01:42:04.296561Z",
     "iopub.status.busy": "2022-04-17T01:42:04.296138Z",
     "iopub.status.idle": "2022-04-17T01:42:04.315320Z",
     "shell.execute_reply": "2022-04-17T01:42:04.311911Z",
     "shell.execute_reply.started": "2022-04-17T01:42:04.296516Z"
    },
    "tags": []
   },
   "outputs": [
    {
     "name": "stdout",
     "output_type": "stream",
     "text": [
      "Kepler-20 b: 475854 W/m2\n",
      "Mercury: 8507 W/m2\n",
      "Earth: 1361 W/m2\n"
     ]
    }
   ],
   "source": [
    "def irradiation_square_m( L_star, orbital_sep, R_planet ):\n",
    "    import numpy as _np\n",
    "    \n",
    "    R_e = 6378 # km\n",
    "    R_p = R_planet # R_Earth\n",
    "    R_p *= R_e\n",
    "    \n",
    "    L_sun = 3.828E+26 # W\n",
    "    L_kep = L_star # (log10(solar))\n",
    "    L_kep = 10**( L_kep ) * L_sun\n",
    "    \n",
    "    au_to_km = 1.496e+8 # km\n",
    "    orbital_sep = orbital_sep # AU\n",
    "    orbital_sep *= au_to_km\n",
    "    \n",
    "    irrad = L_kep/(4 * _np.pi * orbital_sep**2) * (1000)**-2\n",
    "\n",
    "    return irrad\n",
    "\n",
    "## Estimates of Irradiance\n",
    "print( \"Kepler-20 b:\", round(irradiation_square_m(-0.15, 0.045, 1.91)), \"W/m2\" )\n",
    "\n",
    "print( \"Mercury:\", round(irradiation_square_m(0, 0.4, 0.383)), \"W/m2\" )\n",
    "\n",
    "# 1360.8 ± 0.5 W/m2; https://earth.gsfc.nasa.gov/climate/research/solar-radiation\n",
    "print( \"Earth:\", round(irradiation_square_m(0, 1, 1)), \"W/m2\" )"
   ]
  },
  {
   "cell_type": "code",
   "execution_count": 3,
   "metadata": {
    "execution": {
     "iopub.execute_input": "2022-04-17T01:42:04.319725Z",
     "iopub.status.busy": "2022-04-17T01:42:04.319319Z",
     "iopub.status.idle": "2022-04-17T01:42:04.340098Z",
     "shell.execute_reply": "2022-04-17T01:42:04.338275Z",
     "shell.execute_reply.started": "2022-04-17T01:42:04.319681Z"
    },
    "tags": []
   },
   "outputs": [
    {
     "name": "stdout",
     "output_type": "stream",
     "text": [
      "Kepler-20 b: 2.218500278023708e+20 W\n",
      "Mercury: 1.5947600430548e+17 W\n",
      "Earth: 1.7394733544353568e+17 W\n",
      "Irradiance Relative to Earth: 1275.3861807465548\n"
     ]
    }
   ],
   "source": [
    "def irradiation( L_star, orbital_sep, R_planet ):\n",
    "    import numpy as _np\n",
    "    \n",
    "    R_e = 6378 # km\n",
    "    R_p = R_planet # R_Earth\n",
    "    R_p *= R_e\n",
    "    \n",
    "    L_sun = 3.828E+26 # W\n",
    "    L_kep = L_star # (log10(solar))\n",
    "    L_kep = 10**( L_kep ) * L_sun\n",
    "    \n",
    "    au_to_km = 1.496e+8 # km\n",
    "    orbital_sep = orbital_sep # AU\n",
    "    orbital_sep *= au_to_km\n",
    "    \n",
    "    irrad = L_kep/(4 * _np.pi * orbital_sep**2) * (_np.pi * R_p**2) # W\n",
    "\n",
    "    return irrad\n",
    "\n",
    "## Estimates of Irradiance\n",
    "print( \"Kepler-20 b:\", irradiation(-0.15, 0.045, 1.91), \"W\" )\n",
    "\n",
    "print( \"Mercury:\", irradiation(0, 0.4, 0.383), \"W\" )\n",
    "\n",
    "print( \"Earth:\", irradiation(0, 1, 1), \"W\" )\n",
    "\n",
    "print( \"Irradiance Relative to Earth:\", irradiation(-0.15, 0.045, 1.91)/irradiation(0, 1, 1) )"
   ]
  },
  {
   "cell_type": "markdown",
   "metadata": {},
   "source": [
    "![title](img/fulton2017_.png)"
   ]
  },
  {
   "cell_type": "markdown",
   "metadata": {},
   "source": [
    "## Part 3: "
   ]
  },
  {
   "cell_type": "markdown",
   "metadata": {},
   "source": [
    "M_Earth values from Gautier et al. 2011: 8.7  +2.1  -2.2  \n",
    "R_Earth values from Gautier et al. 2011: 1.91 +0.12 -0.21"
   ]
  },
  {
   "cell_type": "markdown",
   "metadata": {},
   "source": [
    "Using scaled stellar abundances but leaving default core/mantle composition"
   ]
  },
  {
   "cell_type": "markdown",
   "metadata": {},
   "source": [
    "python example_by_mass_with_flags.py --mass=8.7 --FeMg=0.69 --SiMg=0.76 --AlMg=0.08 --CaMg=0.05  \n",
    "  \n",
    "Mass =  8.700 Earth masses  \n",
    "Radius =  1.79655 Earth radii  \n",
    "Density =  8.269 g/cc  \n",
    "Core Mass Fraction =  29.33  \n",
    "Core Radius Fraction =  48.02  \n",
    "CMB Pressure =  1265.00 GPa  \n",
    "CMB Temperature =  5087.98 K  \n",
    "number of oceans: 0.00  \n",
    "Central core pressure 3.52 TPa  \n",
    "Central core Temperature 7071.38 K  "
   ]
  },
  {
   "cell_type": "markdown",
   "metadata": {},
   "source": [
    "python example_by_mass_with_flags.py --mass=10.8 --FeMg=0.69 --SiMg=0.76 --AlMg=0.08 --CaMg=0.05  \n",
    "  \n",
    "Mass =  10.800 Earth masses  \n",
    "Radius =  1.89248 Earth radii  \n",
    "Density =  8.782 g/cc  \n",
    "Core Mass Fraction =  29.33  \n",
    "Core Radius Fraction =  47.91  \n",
    "CMB Pressure =  1609.00 GPa  \n",
    "CMB Temperature =  5285.28 K  \n",
    "number of oceans: 0.00  \n",
    "Central core pressure 4.46 TPa  \n",
    "Central core Temperature 7271.56 K  "
   ]
  },
  {
   "cell_type": "markdown",
   "metadata": {},
   "source": [
    "python example_by_mass_with_flags.py --mass=6.5 --FeMg=0.69 --SiMg=0.76 --AlMg=0.08 --CaMg=0.05  \n",
    "  \n",
    "Mass =  6.500 Earth masses  \n",
    "Radius =  1.67092 Earth radii  \n",
    "Density =  7.679 g/cc  \n",
    "Core Mass Fraction =  29.33  \n",
    "Core Radius Fraction =  48.23  \n",
    "CMB Pressure =  924.00 GPa  \n",
    "CMB Temperature =  4644.50 K  \n",
    "number of oceans: 0.00  \n",
    "Central core pressure 2.58 TPa  \n",
    "Central core Temperature 6511.50 K  "
   ]
  },
  {
   "cell_type": "markdown",
   "metadata": {},
   "source": [
    "## Part 4: Adjusting Core and Mantle Composition"
   ]
  },
  {
   "cell_type": "markdown",
   "metadata": {},
   "source": [
    "M_Earth values from Gautier et al. 2011: 8.7  +2.1  -2.2  \n",
    "R_Earth values from Gautier et al. 2011: 1.91 +0.12 -0.21"
   ]
  },
  {
   "cell_type": "markdown",
   "metadata": {},
   "source": [
    "![title](img/berf.jpg)"
   ]
  },
  {
   "cell_type": "markdown",
   "metadata": {},
   "source": [
    "^^ plot above ^^\n",
    "  \n",
    "python example_by_mass_with_flags.py --mass=8.7 --FeMg=0.69 --SiMg=0.76 --AlMg=0.08 --CaMg=0.05 --mol_frac_Fe_mantle=0.0 --wt_frac_Si_core=0.3 --wt_frac_O_core=0.1  \n",
    "  \n",
    "Mass =  8.700 Earth masses  \n",
    "Radius =  1.91089 Earth radii  \n",
    "Density =  6.872 g/cc  \n",
    "Core Mass Fraction =  40.89  \n",
    "Core Radius Fraction =  66.55  \n",
    "CMB Pressure =  560.00 GPa  \n",
    "CMB Temperature =  3940.96 K  \n",
    "number of oceans: 0.00  \n",
    "Central core pressure 1.48 TPa  \n",
    "Central core Temperature 7281.13 K  "
   ]
  },
  {
   "cell_type": "markdown",
   "metadata": {},
   "source": [
    "Upper Mass; 0.10 radius discrepency with 8.7 mass; within radius error  \n",
    "  \n",
    "python example_by_mass_with_flags.py --mass=10.8 --FeMg=0.69 --SiMg=0.76 --AlMg=0.08 --CaMg=0.05 --mol_frac_Fe_mantle=0.0 --wt_frac_Si_core=0.3 --wt_frac_O_core=0.1  \n",
    "  \n",
    "Mass =  10.800 Earth masses  \n",
    "Radius =  2.01787 Earth radii  \n",
    "Density =  7.245 g/cc  \n",
    "Core Mass Fraction =  40.89  \n",
    "Core Radius Fraction =  66.37  \n",
    "CMB Pressure =  701.00 GPa  \n",
    "CMB Temperature =  4242.99 K  \n",
    "number of oceans: 0.00  \n",
    "Central core pressure 1.85 TPa  \n",
    "Central core Temperature 7783.63 K  "
   ]
  },
  {
   "cell_type": "markdown",
   "metadata": {},
   "source": [
    "Lower Mass; 0.13 radius discrepency with 8.7 mass; within radius error  \n",
    "  \n",
    "python example_by_mass_with_flags.py --mass=6.5 --FeMg=0.69 --SiMg=0.76 --AlMg=0.08 --CaMg=0.05 --mol_frac_Fe_mantle=0.0 --wt_frac_Si_core=0.3 --wt_frac_O_core=0.1  \n",
    "  \n",
    "Mass =  6.500 Earth masses  \n",
    "Radius =  1.77317 Earth radii  \n",
    "Density =  6.426 g/cc  \n",
    "Core Mass Fraction =  40.89  \n",
    "Core Radius Fraction =  66.82  \n",
    "CMB Pressure =  416.00 GPa  \n",
    "CMB Temperature =  3578.16 K  \n",
    "number of oceans: 0.00  \n",
    "Central core pressure 1.09 TPa  \n",
    "Central core Temperature 6644.97 K  "
   ]
  },
  {
   "cell_type": "markdown",
   "metadata": {},
   "source": [
    "Earth for comparison\n",
    "![title](img/earth.jpg)"
   ]
  },
  {
   "cell_type": "markdown",
   "metadata": {},
   "source": [
    "## Part 5: Mineralogy"
   ]
  }
 ],
 "metadata": {
  "kernelspec": {
   "display_name": "Python 3 (ipykernel)",
   "language": "python",
   "name": "python3"
  },
  "language_info": {
   "codemirror_mode": {
    "name": "ipython",
    "version": 3
   },
   "file_extension": ".py",
   "mimetype": "text/x-python",
   "name": "python",
   "nbconvert_exporter": "python",
   "pygments_lexer": "ipython3",
   "version": "3.9.7"
  }
 },
 "nbformat": 4,
 "nbformat_minor": 4
}
